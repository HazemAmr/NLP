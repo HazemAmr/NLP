{
  "nbformat": 4,
  "nbformat_minor": 0,
  "metadata": {
    "colab": {
      "provenance": []
    },
    "kernelspec": {
      "name": "python3",
      "display_name": "Python 3"
    },
    "language_info": {
      "name": "python"
    }
  },
  "cells": [
    {
      "cell_type": "code",
      "execution_count": 2,
      "metadata": {
        "colab": {
          "base_uri": "https://localhost:8080/"
        },
        "id": "45kbIlvprk8u",
        "outputId": "1a28cbb4-bfdf-42fd-ea99-578647429ba5"
      },
      "outputs": [
        {
          "output_type": "stream",
          "name": "stderr",
          "text": [
            "[nltk_data] Downloading package punkt to /root/nltk_data...\n",
            "[nltk_data]   Package punkt is already up-to-date!\n",
            "[nltk_data] Downloading package wordnet to /root/nltk_data...\n",
            "[nltk_data]   Package wordnet is already up-to-date!\n",
            "[nltk_data] Downloading package stopwords to /root/nltk_data...\n",
            "[nltk_data]   Package stopwords is already up-to-date!\n"
          ]
        },
        {
          "output_type": "stream",
          "name": "stdout",
          "text": [
            "Unique words:\n",
            "['service', 'fight', 'power', 'condition', 'strike', 'collecting', 'currency', 'concurrent', 'sitebetter', 'period', 'version', 'andor', 'formulating', 'qualify', 'definition', 'side', 'tpm', 'us', 'higher', 'followed', 'randomized', 'instant', 'lost', 'overall', 'regular', 'forfeit', 'spent', 'bot', 'competitive', 'unable', 'flash', 'often', 'initial', 'people', 'better', 'initiator', 'modification', 'tick', 'resultant', 'forwardbetter', 'onto', 'purchasing', 'shoot', 'attack', 'include', 'well', 'barrier', 'title', 'talked', 'orb', 'completing', 'creating', 'gamemodes', 'ever', 'entryway', 'ultimate', 'rather', 'november', 'among', 'premier', 'communication', 'enter', 'behind', 'watched', 'spray', 'director', 'ult', 'using', 'master', 'rank', 'signature', 'machine', 'found', 'goslin', 'lockin', 'blind', 'modern', 'trouble', 'kernel', 'trevor', 'dedicated', 'system', 'disabling', 'introduced', 'voicechat', 'third', 'hat', 'furthermore', 'yearlong', 'disabled', 'playstyles', 'spot', 'take', 'nottingham', 'worse', 'site', 'locking', 'able', 'explains', 'mechanic', 'foundation', 'defensive', 'teambased', 'minimum', 'going', 'switching', 'activate', 'kind', 'attempting', 'owner', 'issue', 'program', 'submachine', 'access', 'lan', 'via', 'indicates', 'solving', 'main', 'though', 'need', 'stated', 'award', 'deliver', 'social', 'usually', 'concern', 'select', 'absurd', 'defense', 'christmas', 'entering', 'underpinnings', 'anticheat', 'compete', 'immortal', 'divided', 'war', 'razes', 'genre', 'reserved', 'modebetter', 'pattern', 'sign', 'respawns', 'addition', 'rifle', 'crowd', 'released', 'environment', 'needed', 'creative', 'part', 'codename', 'traffic', 'garozzo', 'gun', 'worked', 'joe', 'give', 'valve', 'tier', 'nonranked', 'sovas', 'sightlines', 'item', 'arc', 'helping', 'vp', 'losing', 'buy', 'boom', 'esports', 'launch', 'gunfighting', 'require', 'tuning', 'ranking', 'day', 'type', 'theyre', 'launched', 'semiautomatic', 'directly', 'toxic', 'gear', 'outcome', 'tour', 'espn', 'technology', 'spending', 'easier', 'constructive', 'shotgun', 'new', 'largest', 'much', 'become', 'purchased', 'world', 'level', 'reset', 'valuable', 'molotov', 'rand', 'ping', 'compliant', 'receive', 'goal', 'concept', 'alternate', 'make', 'consisting', 'frags', 'requirement', 'kasbah', 'forfeiting', 'instead', 'twice', 'reworking', 'specific', 'female', 'started', 'eliminated', 'spike', 'pick', 'vulnerability', 'split', 'unique', 'obtained', 'swiftplay', 'others', 'rendering', 'assigned', 'compared', 'delivering', 'season', 'pure', 'stability', 'acquiring', 'testing', 'limitedtime', 'faster', 'static', 'meet', 'patch', 'round', 'potential', 'ziegler', 'moving', 'gungame', 'claim', 'software', 'holding', 'way', 'hit', 'group', 'shooter', 'february', 'catch', 'infinite', 'demonstrate', 'area', 'weapon', 'emphasis', 'platform', 'refined', 'expires', 'time', 'allows', 'twomatch', 'friend', 'survey', 'tactical', 'completed', 'pay', 'link', 'death', 'hacker', 'would', 'variety', 'donlon', 'surrender', 'lighting', 'recruitment', 'deactivate', 'fourth', 'nine', 'scene', 'led', 'evaluation', 'received', 'experienced', 'back', 'registration', 'discord', 'reposition', 'mapbetter', 'distance', 'across', 'number', 'leading', 'replenishes', 'negative', 'conglomerate', 'champion', 'noticed', 'flatout', 'mainly', 'hardware', 'amassed', 'nonpartner', 'mandated', 'roundbetter', 'due', 'selected', 'detonates', 'unlocked', 'duelist', 'stage', 'borrows', 'preset', 'based', 'money', 'obtain', 'taking', 'purchase', 'performance', 'top', 'everything', 'allowing', 'playable', 'made', 'solve', 'progressively', 'april', 'additional', 'put', 'successfully', 'tend', 'information', 'report', 'different', 'developed', 'large', 'selects', 'contain', 'must', 'escalation', 'borrowing', 'hardly', 'switch', 'shock', 'video', 'alpha', 'start', 'launcher', 'mode', 'driver', 'come', 'accurately', 'force', 'shortened', 'menu', 'clear', 'metric', 'key', 'charging', 'carry', 'gift', 'optimizing', 'reward', 'may', 'allowed', 'developer', 'server', 'overwatch', 'certain', 'black', 'noncombat', 'jordon', 'use', 'several', 'open', 'ingame', 'send', 'advantage', 'overtime', 'wider', 'potentially', 'fortnite', 'multiple', 'array', 'standing', 'freetoplay', 'approximately', 'working', 'lead', 'le', 'could', 'every', 'interview', 'romleski', 'auto', 'associated', 'snowball', 'marcus', 'bombtype', 'credited', 'district', 'idea', 'first', 'vote', 'kit', 'choke', 'ammo', 'xbox', 'polygon', 'praised', 'internet', 'promise', 'final', 'said', 'officially', 'create', 'valorants', 'doe', 'similar', 'aimed', 'league', 'place', 'universe', 'shooting', 'dangerous', 'pickandban', 'harassment', 'neither', 'random', 'required', 'flank', 'including', 'half', 'present', 'earns', 'newer', 'step', 'cosmetic', 'position', 'timer', 'many', 'march', 'currently', 'oloman', 'unlocking', 'tiersbetter', 'osnews', 'millisecond', 'movementbased', 'path', 'replication', 'green', 'describing', 'promised', 'player', 'championship', 'play', 'change', 'real', 'slow', 'drop', 'frame', 'advantagebetter', 'streaming', 'david', 'contrast', 'either', 'unrated', 'called', 'requiring', 'defender', 'invited', 'country', 'dart', 'rest', 'controller', 'october', 'begin', 'partner', 'retake', 'spinoff', 'project', 'upbetter', 'protects', 'push', 'tencent', 'pas', 'destroying', 'renderer', 'want', 'person', 'fortress', 'assigns', 'game', 'watch', 'provide', 'differs', 'legend', 'towards', 'engineering', 'occurs', 'chinese', 'piazza', 'valorant', 'gamemode', 'window', 'expect', 'bomb', 'future', 'four', 'standard', 'smoke', 'core', 'room', 'million', 'combine', 'unranked', 'front', 'minute', 'agree', 'next', 'freeforall', 'improvement', 'requires', 'gunplay', 'exploited', 'opposed', 'offense', 'global', 'attacking', 'kill', 'suitable', 'consist', 'bad', 'two', 'former', 'classic', 'daily', 'however', 'reveal', 'success', 'chose', 'intends', 'limited', 'shield', 'regional', 'fifth', 'device', 'city', 'austen', 'fast', 'july', 'kingdom', 'wa', 'challenger', 'offer', 'per', 'twitch', 'averaging', 'uefi', 'safer', 'bug', 'getting', 'assortment', 'event', 'near', 'voted', 'reception', 'shine', 'activating', 'priority', 'fraggers', 'reference', 'inspiration', 'task', 'around', 'expressed', 'vct', 'element', 'revealed', 'animation', 'pacific', 'provider', 'get', 'becoming', 'created', 'rocket', 'discourage', 'primary', 'brazil', 'increase', 'closed', 'beta', 'choose', 'rush', 'weekly', 'another', 'source', 'fully', 'reach', 'amount', 'coverage', 'stream', 'end', 'francke', 'shown', 'adjust', 'team', 'voiced', 'wish', 'health', 'duty', 'situation', 'ensure', 'process', 'partnered', 'youtube', 'live', 'advance', 'gaming', 'art', 'recommended', 'bring', 'unnecessary', 'credit', 'beginning', 'opening', 'secondary', 'know', 'everyone', 'chance', 'winbased', 'responsible', 'control', 'middle', 'viewer', 'radiant', 'entertainment', 'five', 'draw', 'receiving', 'moneybetter', 'december', 'attract', 'prebought', 'simply', 'call', 'active', 'stop', 'match', 'respawning', 'function', 'territory', 'selfsufficient', 'experience', 'stuns', 'anna', 'accessibility', 'exploit', 'role', 'fun', 'unreal', 'set', 'move', 'lower', 'studio', 'vanguard', 'operating', 'sudden', 'previous', 'attacker', 'unlike', 'guardian', 'specified', 'perfection', 'killed', 'spawned', 'victory', 'graphic', 'designed', 'voice', 'module', 'ive', 'cryptoprocessor', 'pistol', 'reached', 'america', 'range', 'tentative', 'various', 'activated', 'official', 'powerful', 'available', 'compare', 'expected', 'emily', 'supportbetter', 'fit', 'deal', 'expand', 'unreals', 'win', 'previously', 'single', 'allow', 'pack', 'party', 'receives', 'loadout', 'reported', 'region', 'bullet', 'halflife', 'slicing', 'map', 'spawn', 'designer', 'development', 'differing', 'severity', 'powerup', 'used', 'except', 'model', 'teased', 'june', 'without', 'division', 'cover', 'dozen', 'charge', 'line', 'v', 'sidearms', 'selection', 'low', 'computer', 'blizzard', 'counterstrike', 'playing', 'establish', 'ha', 'guard', 'charged', 'best', 'went', 'related', 'enemy', 'percentage', 'result', 'microsofts', 'least', 'criticized', 'also', 'three', 'week', 'covid', 'trusted', 'salvatore', 'teammate', 'marked', 'tournament', 'point', 'criticism', 'damage', 'quick', 'obstacle', 'focus', 'optimization', 'acquired', 'asia', 'portal', 'played', 'major', 'reid', 'professional', 'announced', 'within', 'specifically', 'agent', 'apple', 'catering', 'august', 'notably', 'qualifier', 'objective', 'moby', 'maledominated', 'opposing', 'small', 'meant', 'run', 'character', 'breaking', 'cut', 'sure', 'space', 'forward', 'possible', 'ended', 'firstperson', 'giving', 'release', 'indulges', 'removing', 'protecting', 'specializes', 'develop', 'secure', 'provides', 'controlled', 'thereafter', 'linked', 'connection', 'external', 'delay', 'community', 'unlock', 'winning', 'pathtopro', 'request', 'respawned', 'behavior', 'one', 'last', 'offensive', 'full', 'throughout', 'series', 'ops', 'paulo', 'impact', 'deathmatch', 'try', 'research', 'enabled', 'typically', 'economic', 'accessible', 'making', 'interfere', 'plant', 'help', 'securing', 'included', 'member', 'reportedly', 'class', 'editing', 'franchised', 'mobility', 'emea', 'second', 'refuse', 'engine', 'hero', 'like', 'even', 'sentinel', 'since', 'common', 'subscription', 'seen', 'content', 'north', 'boot', 'began', 'location', 'additionally', 'assault', 'automatic', 'riot', 'work', 'go', 'producer', 'classbased', 'accomplish', 'sniper', 'armor', 'bounty', 'entire', 'highest', 'randomly', 'plan', 'iron', 'inaccuracy', 'specialize', 'maximum', 'spy', 'projectilebased', 'defending', 'white', 'account', 'base', 'gameplay', 'helped', 'ability', 'published', 'culture', 'circuit', 'pandemic', 'south', 'object', 'mobile']\n"
          ]
        }
      ],
      "source": [
        "import requests\n",
        "from bs4 import BeautifulSoup\n",
        "import re\n",
        "import nltk\n",
        "from nltk.corpus import stopwords\n",
        "from nltk.tokenize import word_tokenize\n",
        "from nltk.stem import WordNetLemmatizer\n",
        "\n",
        "nltk.download('punkt')\n",
        "nltk.download('wordnet')\n",
        "nltk.download('stopwords')\n",
        "\n",
        "def extract_text_from_html(url):\n",
        "    response = requests.get(url)\n",
        "    soup = BeautifulSoup(response.text, 'html.parser')\n",
        "\n",
        "    paragraphs = soup.find_all(['p', 'h1', 'h2', 'h3', 'h4', 'h5', 'h6'])\n",
        "    text = ' '.join([p.get_text() for p in paragraphs])\n",
        "\n",
        "    return text\n",
        "\n",
        "def process_text(text):\n",
        "    cleaned_text = re.sub(r'[^a-zA-Z\\s]', '', text)\n",
        "\n",
        "    normalized_text = cleaned_text.lower()\n",
        "\n",
        "    words = word_tokenize(normalized_text)\n",
        "\n",
        "    lemmatizer = WordNetLemmatizer()\n",
        "    lemmatized_words = [lemmatizer.lemmatize(word) for word in words]\n",
        "\n",
        "    stop_words = set(stopwords.words('english'))\n",
        "    filtered_words = [word for word in lemmatized_words if word not in stop_words]\n",
        "\n",
        "    return filtered_words\n",
        "\n",
        "def get_unique_words(words):\n",
        "    return list(set(words))\n",
        "\n",
        "url = 'https://en.wikipedia.org/wiki/Valorant'\n",
        "html_text = extract_text_from_html(url)\n",
        "processed_words = process_text(html_text)\n",
        "unique_words = get_unique_words(processed_words)\n",
        "\n",
        "print(\"Unique words:\")\n",
        "print(unique_words)\n"
      ]
    }
  ]
}